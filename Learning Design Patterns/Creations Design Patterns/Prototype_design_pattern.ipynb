{
 "cells": [
  {
   "cell_type": "code",
   "execution_count": 1,
   "id": "d36b5976",
   "metadata": {},
   "outputs": [
    {
     "name": "stdout",
     "output_type": "stream",
     "text": [
      "Sending to user1@example.com: [Welcome to TUF+] Hi there! Thanks for joining us.\n",
      "Sending to user2@example.com: [Welcome to TUF+] Hi there! Welcome to TUF Premium.\n",
      "Sending to user3@example.com: [Welcome to TUF+] Thanks for signing up. Let's get started!\n"
     ]
    }
   ],
   "source": [
    "from abc import ABC, abstractmethod\n",
    "\n",
    "# Target Interface\n",
    "# Abstract class to represent an Email Template\n",
    "class EmailTemplate(ABC):\n",
    "    @abstractmethod\n",
    "    def set_content(self, content):\n",
    "        pass\n",
    "\n",
    "    @abstractmethod\n",
    "    def send(self, to):\n",
    "        pass\n",
    "\n",
    "# A concrete email class, hardcoded\n",
    "class WelcomeEmail(EmailTemplate):\n",
    "    def __init__(self):\n",
    "        self.subject = \"Welcome to TUF+\"\n",
    "        self.content = \"Hi there! Thanks for joining us.\"\n",
    "\n",
    "    def set_content(self, content):\n",
    "        self.content = content\n",
    "\n",
    "    def send(self, to):\n",
    "        print(f\"Sending to {to}: [{self.subject}] {self.content}\")\n",
    "\n",
    "# if __name__ == \"__main__\":\n",
    "    # Create a welcome email\n",
    "email1 = WelcomeEmail()\n",
    "email1.send(\"user1@example.com\")\n",
    "\n",
    "# Suppose we want a similar email with slightly different content\n",
    "email2 = WelcomeEmail()\n",
    "email2.set_content(\"Hi there! Welcome to TUF Premium.\")\n",
    "email2.send(\"user2@example.com\")\n",
    "\n",
    "# Yet another variation\n",
    "email3 = WelcomeEmail()\n",
    "email3.set_content(\"Thanks for signing up. Let's get started!\")\n",
    "email3.send(\"user3@example.com\")\n"
   ]
  },
  {
   "cell_type": "code",
   "execution_count": null,
   "id": "e0dbcfee",
   "metadata": {},
   "outputs": [
    {
     "name": "stdout",
     "output_type": "stream",
     "text": [
      "Sending to alice@example.com: [Welcome to TUF+] Hi Alice, welcome to TUF Premium!\n",
      "Sending to bob@example.com: [Welcome to TUF+] Hi Bob, thanks for joining!\n"
     ]
    }
   ],
   "source": [
    "import copy\n",
    "\n",
    "# Defining the Prototype Interface\n",
    "class EmailTemplate:\n",
    "    def clone(self):\n",
    "        return copy.deepcopy(self)  # Recommended to perform deep copy\n",
    "\n",
    "    def set_content(self, content):\n",
    "        pass\n",
    "\n",
    "    def send(self, to):\n",
    "        pass\n",
    "\n",
    "# Concrete Class implementing clone logic\n",
    "class WelcomeEmail(EmailTemplate):\n",
    "    def __init__(self):\n",
    "        self.subject = \"Welcome to TUF+\"\n",
    "        self.content = \"Hi there! Thanks for joining us.\"\n",
    "\n",
    "    def set_content(self, content):\n",
    "        self.content = content\n",
    "\n",
    "    def send(self, to):\n",
    "        print(f\"Sending to {to}: [{self.subject}] {self.content}\")\n",
    "\n",
    "# Template Registry to store and provide clones\n",
    "class EmailTemplateRegistry:\n",
    "    templates = {\n",
    "        \"welcome\": WelcomeEmail(),\n",
    "        # \"discount\": DiscountEmail(),\n",
    "        # \"feature-update\": FeatureUpdateEmail(),\n",
    "    }\n",
    "\n",
    "    @staticmethod\n",
    "    def get_template(type_):\n",
    "        return EmailTemplateRegistry.templates[type_].clone()  # clone to avoid modifying original\n",
    "\n",
    "# Driver code\n",
    "welcome_email1 = EmailTemplateRegistry.get_template(\"welcome\")\n",
    "welcome_email1.set_content(\"Hi Alice, welcome to TUF Premium!\")\n",
    "welcome_email1.send(\"alice@example.com\")\n",
    "\n",
    "welcome_email2 = EmailTemplateRegistry.get_template(\"welcome\")\n",
    "welcome_email2.set_content(\"Hi Bob, thanks for joining!\")\n",
    "welcome_email2.send(\"bob@example.com\")\n",
    "# Reuse the base WelcomeEmail structure, just changing dynamic content\n"
   ]
  },
  {
   "cell_type": "code",
   "execution_count": null,
   "id": "8e4867c7",
   "metadata": {},
   "outputs": [],
   "source": []
  }
 ],
 "metadata": {
  "kernelspec": {
   "display_name": "base",
   "language": "python",
   "name": "python3"
  },
  "language_info": {
   "codemirror_mode": {
    "name": "ipython",
    "version": 3
   },
   "file_extension": ".py",
   "mimetype": "text/x-python",
   "name": "python",
   "nbconvert_exporter": "python",
   "pygments_lexer": "ipython3",
   "version": "3.12.7"
  }
 },
 "nbformat": 4,
 "nbformat_minor": 5
}
