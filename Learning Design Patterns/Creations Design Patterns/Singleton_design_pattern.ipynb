{
 "cells": [
  {
   "cell_type": "code",
   "execution_count": null,
   "id": "93fc8bf8",
   "metadata": {},
   "outputs": [],
   "source": [
    "# Unlike simple instantiation (new), Singleton controls the object creation process by returning an existing instance rather than creating a new one.\n",
    "\n",
    "\n",
    "# The Singleton Pattern typically involves the following steps:\n",
    "# Private constructor: Prevents instantiation from outside the class.\n",
    "# Static variable: Holds the single instance of the class. Use this at class level which is shared between.\n",
    "# Public static method: Provides a global access point to get the instance.\n",
    "\n",
    "# In the real world, while designing the product, there are two primary ways to implement the Singleton pattern\n",
    "# Eager Loading\n",
    "# Lazy Loading\n"
   ]
  },
  {
   "cell_type": "code",
   "execution_count": 16,
   "id": "8dd22983",
   "metadata": {},
   "outputs": [
    {
     "name": "stdout",
     "output_type": "stream",
     "text": [
      "<__main__.EagerSingleton object at 0x109d5c950>\n",
      "<__main__.EagerSingleton object at 0x109d5c950>\n"
     ]
    }
   ],
   "source": [
    "# In Eager Loading, the Singleton instance is created as soon as the class is loaded, regardless of whether it's ever used.\n",
    "\n",
    "class EagerSingleton:\n",
    "    __instance = None  # This is now a class variable, not a object variable, this will be shared across all the instances\n",
    "\n",
    "    def __init__(self):\n",
    "        if EagerSingleton.__instance is not None: # EagerSingleton.__instance This is how you access the class variable\n",
    "            raise Exception(\"This class is a singleton!\") # This makes is kind of inaccessible for second initilization\n",
    "        EagerSingleton.__instance = self # Initialization of the class variable \n",
    "\n",
    "    @staticmethod # This helps to access the static mathod, with this, the below method can directly be called from the class \n",
    "    def getInstance():\n",
    "        return EagerSingleton.__instance \n",
    "\n",
    "EagerSingleton()\n",
    "# EagerSingleton() <----------- This will throw an error. We are trying to initiliaze for the second time.\n",
    "\n",
    "# Usage:\n",
    "singleton = EagerSingleton.getInstance()\n",
    "singleton1 = EagerSingleton.getInstance()\n",
    "\n",
    "print(singleton)\n",
    "print(singleton1)\n",
    "\n",
    "\n",
    "# Pros\n",
    "# Very simple to implement.\n",
    "# Thread-safe without any extra handling.\n",
    "\n",
    "# Cons\n",
    "# Wastes memory if the instance is never used.\n",
    "# Not suitable for heavy objects."
   ]
  },
  {
   "cell_type": "code",
   "execution_count": 2,
   "id": "1013cc46",
   "metadata": {},
   "outputs": [
    {
     "name": "stdout",
     "output_type": "stream",
     "text": [
      "<__main__.LazySingleton object at 0x1049d8c50>\n",
      "<__main__.LazySingleton object at 0x1049d8c50>\n"
     ]
    }
   ],
   "source": [
    "# In Lazy Loading, the Singleton instance is created only when it's needed — the first time the getInstance() method is called.\n",
    "\n",
    "# Class implementing Lazy Loading\n",
    "class LazySingleton:\n",
    "    # Object declaration\n",
    "    __instance = None\n",
    "\n",
    "    # Private constructor simulation\n",
    "    def __init__(self):\n",
    "        if LazySingleton.__instance is not None:\n",
    "            raise Exception(\"This class is a singleton!\")\n",
    "        # Declaring it private prevents creation of its object using the new keyword\n",
    "        LazySingleton.__instance = self\n",
    "\n",
    "    # Method to get the instance of class\n",
    "    @staticmethod\n",
    "    def getInstance():\n",
    "        # If the object is not created\n",
    "        if LazySingleton.__instance is None:\n",
    "            # A new object is created\n",
    "            LazySingleton()\n",
    "        \n",
    "        # Otherwise the already created object is returned\n",
    "        return LazySingleton.__instance\n",
    "    \n",
    "\n",
    "# LazySingleton() <----------- This line can me removed I can directly initialize while trying to get the instance\n",
    "singleton_1 = LazySingleton.getInstance()\n",
    "singleton_2 = LazySingleton.getInstance()\n",
    "\n",
    "print(singleton_1)\n",
    "print(singleton_2)\n",
    "\n",
    "# Pros\n",
    "# Saves memory if the instance is never used.\n",
    "# Object creation is deferred until required.\n",
    "\n",
    "# Cons\n",
    "# Lazy Loading is Not thread-safe by default. Thus, it requires synchronization in multi-threaded environments."
   ]
  },
  {
   "cell_type": "code",
   "execution_count": 1,
   "id": "ce8e9808",
   "metadata": {},
   "outputs": [],
   "source": [
    "#Let's try to solve the threading issue with the Lazy Loading \n",
    "\n",
    "# 1. Synchronized Method\n",
    "# This is the simplest way to ensure thread safety. By synchronizing the method that creates the instance, we can prevent multiple threads from creating separate instances at the same time. However, this approach can lead to performance issues due to the overhead of synchronization.\n",
    "\n",
    "# What synchronized keyword does?\n",
    "# The synchronized keyword ensures that only one thread at a time can execute the getInstance() method. This prevents multiple threads from entering the method simultaneously and creating multiple instances.\n",
    "\n",
    "import threading\n",
    "\n",
    "class Singleton:\n",
    "    __instance = None # Shared class variable\n",
    "    __lock = threading.Lock() # Shared threading lock variable as well.\n",
    "\n",
    "    def __init__(self):\n",
    "        if Singleton.__instance is not None: # Prevents double initialization\n",
    "            raise Exception(\"This class is a singleton!\")\n",
    "        Singleton.__instance = self # Assign itself to the variable, assigning it with Singleton(), will lead to recursion depth issue.\n",
    "\n",
    "    @staticmethod\n",
    "    def getInstance():\n",
    "        with Singleton.__lock: # Ensures that only one thread at a time can execute the block that checks and creates the singleton instance.\n",
    "            if Singleton.__instance is None:\n",
    "                Singleton() \n",
    "        return Singleton.__instance\n",
    "\n",
    "# Pros\n",
    "# Simple and easy to implement.\n",
    "# Thread-safe without needing complex logic.\n",
    "\n",
    "# Cons\n",
    "# Performance overhead: Every call to getInstance() is synchronized, even after the instance is created.\n",
    "# May slow down the application in high-concurrency scenarios."
   ]
  },
  {
   "cell_type": "code",
   "execution_count": null,
   "id": "48c1ac1d",
   "metadata": {},
   "outputs": [],
   "source": [
    "# 2. Double-Checked Locking\n",
    "# 3. Bill Pugh Singleton (Best Practice for Lazy Loading)\n",
    "\n",
    "# Three important things to remember, Have static class variable\n",
    "# Private the initilization method\n",
    "# Method to finally get the class variable directly."
   ]
  }
 ],
 "metadata": {
  "kernelspec": {
   "display_name": "base",
   "language": "python",
   "name": "python3"
  },
  "language_info": {
   "codemirror_mode": {
    "name": "ipython",
    "version": 3
   },
   "file_extension": ".py",
   "mimetype": "text/x-python",
   "name": "python",
   "nbconvert_exporter": "python",
   "pygments_lexer": "ipython3",
   "version": "3.12.7"
  }
 },
 "nbformat": 4,
 "nbformat_minor": 5
}
