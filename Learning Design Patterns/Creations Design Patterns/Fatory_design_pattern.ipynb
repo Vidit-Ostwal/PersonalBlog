{
 "cells": [
  {
   "cell_type": "code",
   "execution_count": null,
   "id": "9f2c9d0d",
   "metadata": {},
   "outputs": [
    {
     "name": "stdout",
     "output_type": "stream",
     "text": [
      "Drawing Circle\n",
      "Drawing Square\n"
     ]
    }
   ],
   "source": [
    "# The Factory Pattern typically consists of the following components:\n",
    "\n",
    "# Product: It is an interface or abstract class that defines the methods the product must implement.\n",
    "# Concrete Products: The concrete classes that implement the Product interface.\n",
    "# Factory: A class with a method that returns different concrete products based on input.\n",
    "\n",
    "\n",
    "\n",
    "\n",
    "# Interface \n",
    "from abc import ABC, abstractmethod\n",
    "\n",
    "class Shape(ABC):\n",
    "    @abstractmethod\n",
    "    def draw(self):\n",
    "        pass\n",
    "\n",
    "# Class implementing the Shape Interface\n",
    "class Circle(Shape):\n",
    "    def draw(self):\n",
    "        print(\"Drawing Circle\")\n",
    "\n",
    "# Class implementing the Shape Interface\n",
    "class Square(Shape):\n",
    "    def draw(self):\n",
    "        print(\"Drawing Square\")\n",
    "\n",
    "# Factory Class\n",
    "class ShapeFactory:\n",
    "    # Method that takes the type of shape as input \n",
    "    # and returns the corresponding object\n",
    "    def get_shape(self, shape_type):\n",
    "        if shape_type.lower() == \"circle\":\n",
    "            return Circle()\n",
    "        elif shape_type.lower() == \"square\":\n",
    "            return Square()\n",
    "        return None\n",
    "\n",
    "# Object of ShapeFactory is initialized, this is a factory.\n",
    "shape_factory = ShapeFactory()\n",
    "\n",
    "# Get a Circle object and call its draw method\n",
    "shape1 = shape_factory.get_shape(\"CIRCLE\")\n",
    "shape1.draw()\n",
    "\n",
    "# Get a Square object and call its draw method\n",
    "shape2 = shape_factory.get_shape(\"SQUARE\")\n",
    "shape2.draw()\n"
   ]
  },
  {
   "cell_type": "code",
   "execution_count": 3,
   "id": "a0e0367c",
   "metadata": {},
   "outputs": [
    {
     "name": "stdout",
     "output_type": "stream",
     "text": [
      "Sending by air logic\n",
      "Sending by road logic\n"
     ]
    }
   ],
   "source": [
    "# Logistics Interface \n",
    "from abc import ABC, abstractmethod\n",
    "\n",
    "class Logistics(ABC):\n",
    "    @abstractmethod\n",
    "    def send(self):\n",
    "        pass\n",
    "\n",
    "# Class implementing the Logistics Interface\n",
    "class Road(Logistics):\n",
    "    def send(self):\n",
    "        print(\"Sending by road logic\")\n",
    "\n",
    "# Class implementing the Logistics Interface\n",
    "class Air(Logistics):\n",
    "    def send(self):\n",
    "        print(\"Sending by air logic\")\n",
    "\n",
    "# Factory Class taking care of Logistics\n",
    "class LogisticsFactory:\n",
    "    @staticmethod\n",
    "    def get_logistics(mode):\n",
    "        if mode.lower() == \"air\":\n",
    "            return Air()\n",
    "        elif mode.lower() == \"road\":\n",
    "            return Road()\n",
    "        else:\n",
    "            raise ValueError(f\"Unknown logistics mode: {mode}\")\n",
    "\n",
    "# Class implementing the Logistics Services\n",
    "class LogisticsService:\n",
    "    def send(self, mode):\n",
    "        # Using the Logistics Factory to get the desired object based on the mode\n",
    "        logistics = LogisticsFactory.get_logistics(mode)\n",
    "        logistics.send()\n",
    "\n",
    "# Driver Code\n",
    "service = LogisticsService()\n",
    "service.send(\"Air\")\n",
    "service.send(\"Road\")\n"
   ]
  }
 ],
 "metadata": {
  "kernelspec": {
   "display_name": "base",
   "language": "python",
   "name": "python3"
  },
  "language_info": {
   "codemirror_mode": {
    "name": "ipython",
    "version": 3
   },
   "file_extension": ".py",
   "mimetype": "text/x-python",
   "name": "python",
   "nbconvert_exporter": "python",
   "pygments_lexer": "ipython3",
   "version": "3.12.7"
  }
 },
 "nbformat": 4,
 "nbformat_minor": 5
}
