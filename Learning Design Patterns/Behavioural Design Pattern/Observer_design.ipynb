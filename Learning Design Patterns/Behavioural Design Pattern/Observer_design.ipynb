{
 "cells": [
  {
   "cell_type": "code",
   "execution_count": 1,
   "id": "f99daaa4",
   "metadata": {},
   "outputs": [],
   "source": [
    "# The Observer Pattern is a behavioral design pattern that defines a one-to-many dependency between objects so that when one object (the subject) changes its state, \n",
    "# all its dependents (called observers) are notified and updated automatically."
   ]
  },
  {
   "cell_type": "code",
   "execution_count": 2,
   "id": "62347863",
   "metadata": {},
   "outputs": [
    {
     "name": "stdout",
     "output_type": "stream",
     "text": [
      "takeUforward uploaded: observer-pattern\n",
      "\n",
      "In-app notification for raj: New video - observer-pattern\n",
      "Email sent to rahul@example.com: New video uploaded - observer-pattern\n"
     ]
    }
   ],
   "source": [
    "from abc import ABC, abstractmethod\n",
    "\n",
    "# ==============================\n",
    "# Observer Interface\n",
    "# ==============================\n",
    "class Subscriber(ABC):\n",
    "    @abstractmethod\n",
    "    def update(self, video_title):\n",
    "        pass\n",
    "\n",
    "# ==============================\n",
    "# Concrete Observer: Email\n",
    "# ==============================\n",
    "class EmailSubscriber(Subscriber):\n",
    "    def __init__(self, email):\n",
    "        self.email = email\n",
    "\n",
    "    def update(self, video_title):\n",
    "        print(f\"Email sent to {self.email}: New video uploaded - {video_title}\")\n",
    "\n",
    "# ==============================\n",
    "# Concrete Observer: Mobile App\n",
    "# ==============================\n",
    "class MobileAppSubscriber(Subscriber):\n",
    "    def __init__(self, username):\n",
    "        self.username = username\n",
    "\n",
    "    def update(self, video_title):\n",
    "        print(f\"In-app notification for {self.username}: New video - {video_title}\")\n",
    "\n",
    "# ==============================\n",
    "# Subject Interface\n",
    "# ==============================\n",
    "class Channel(ABC):\n",
    "    @abstractmethod\n",
    "    def subscribe(self, subscriber):\n",
    "        pass\n",
    "\n",
    "    @abstractmethod\n",
    "    def unsubscribe(self, subscriber):\n",
    "        pass\n",
    "\n",
    "    @abstractmethod\n",
    "    def notify_subscribers(self, video_title):\n",
    "        pass\n",
    "\n",
    "# ==============================\n",
    "# Concrete Subject: YouTubeChannel\n",
    "# ==============================\n",
    "class YouTubeChannel(Channel):\n",
    "    def __init__(self, channel_name):\n",
    "        self.channel_name = channel_name\n",
    "        self.subscribers = []\n",
    "\n",
    "    def subscribe(self, subscriber):\n",
    "        self.subscribers.append(subscriber)\n",
    "\n",
    "    def unsubscribe(self, subscriber):\n",
    "        self.subscribers.remove(subscriber)\n",
    "\n",
    "    def notify_subscribers(self, video_title):\n",
    "        for subscriber in self.subscribers:\n",
    "            subscriber.update(video_title)\n",
    "\n",
    "    # Simulates video upload and triggers notifications\n",
    "    def upload_video(self, video_title):\n",
    "        print(f\"{self.channel_name} uploaded: {video_title}\\n\")\n",
    "        self.notify_subscribers(video_title)\n",
    "\n",
    "# ==============================\n",
    "# Client Code\n",
    "# ==============================\n",
    "def main():\n",
    "    tuf = YouTubeChannel(\"takeUforward\")\n",
    "\n",
    "    # Add subscribers\n",
    "    tuf.subscribe(MobileAppSubscriber(\"raj\"))\n",
    "    tuf.subscribe(EmailSubscriber(\"rahul@example.com\"))\n",
    "\n",
    "    # Upload video and notify all observers\n",
    "    tuf.upload_video(\"observer-pattern\")\n",
    "\n",
    "if __name__ == \"__main__\":\n",
    "    main()\n"
   ]
  },
  {
   "cell_type": "code",
   "execution_count": null,
   "id": "336583e2",
   "metadata": {},
   "outputs": [],
   "source": []
  }
 ],
 "metadata": {
  "kernelspec": {
   "display_name": "base",
   "language": "python",
   "name": "python3"
  },
  "language_info": {
   "codemirror_mode": {
    "name": "ipython",
    "version": 3
   },
   "file_extension": ".py",
   "mimetype": "text/x-python",
   "name": "python",
   "nbconvert_exporter": "python",
   "pygments_lexer": "ipython3",
   "version": "3.12.7"
  }
 },
 "nbformat": 4,
 "nbformat_minor": 5
}
