{
 "cells": [
  {
   "cell_type": "code",
   "execution_count": 1,
   "id": "621a16fa",
   "metadata": {},
   "outputs": [],
   "source": [
    "# Imagine you're building a customer support system with different levels of support, such as basic inquiries, technical issues, and advanced troubleshooting.\n",
    "# A customer can send in a request, and depending on its complexity, the request should be forwarded to the appropriate team. \n",
    "# Instead of each team individually checking if they can handle every possible request, the Chain of Responsibility Pattern sets up a chain where each team can either process the request or pass it to the next team in the chain.\n",
    "# This enables a flexible and extensible system where adding new handlers (teams) is easy and doesn't require changes to the existing code.\n",
    "\n",
    "# Imagine you're working in a customer support system. \n",
    "# A customer submits a request that can be handled by multiple support teams, such as basic inquiries, technical issues, or billing problems.\n",
    "# The Chain of Responsibility Pattern allows the system to forward the request through a chain of support teams (handlers), with each team deciding if they can resolve the issue or pass it along to the next team. \n",
    "# This ensures that each team handles only the requests they are best suited to process, and the customer remains unaware of the chain of responsibility."
   ]
  },
  {
   "cell_type": "code",
   "execution_count": null,
   "id": "0c3365ab",
   "metadata": {},
   "outputs": [
    {
     "name": "stdout",
     "output_type": "stream",
     "text": [
      "Handled by General Support\n",
      "Handled by Billing Team\n",
      "Handled by Technical Support\n",
      "Handled by Delivery Team\n",
      "No handler available\n"
     ]
    }
   ],
   "source": [
    "# SupportService class: Handles different types of support requests\n",
    "class SupportService:\n",
    "\n",
    "    # Method to handle the support request based on the type of issue\n",
    "    def handle_request(self, type):\n",
    "        if type == \"general\":\n",
    "            print(\"Handled by General Support\")\n",
    "        elif type == \"refund\":\n",
    "            print(\"Handled by Billing Team\")\n",
    "        elif type == \"technical\":\n",
    "            print(\"Handled by Technical Support\")\n",
    "        elif type == \"delivery\":\n",
    "            print(\"Handled by Delivery Team\")\n",
    "        else:\n",
    "            print(\"No handler available\")\n",
    "\n",
    "# Main function: Entry point to test the chain of responsibility pattern\n",
    "if __name__ == \"__main__\":\n",
    "    # Create an instance of SupportService\n",
    "    support_service = SupportService()\n",
    "    \n",
    "    # Test with different types of requests\n",
    "    support_service.handle_request(\"general\")\n",
    "    support_service.handle_request(\"refund\")\n",
    "    support_service.handle_request(\"technical\")\n",
    "    support_service.handle_request(\"delivery\")\n",
    "    support_service.handle_request(\"unknown\")\n",
    "\n",
    "\n",
    "# Violation of the Open-Closed Principle: Every time a new type of request is added, the handleRequest method must be modified, violating the Open-Closed Principle, \n",
    "# which states that a class should be open for extension but closed for modification.\n",
    "\n",
    "# Monolithic Code: All logic is contained within a single method, making it difficult to maintain, test, and extend the system.\n",
    "# Each handler (support team) is tightly coupled with the others.\n",
    "\n",
    "# Scalability and Flexibility: As the number of support teams grows, we cannot change the order of processing without modifying the core logic. It makes adding new handlers or changing the order of requests cumbersome.\n"
   ]
  },
  {
   "cell_type": "code",
   "execution_count": 4,
   "id": "4fa864fb",
   "metadata": {},
   "outputs": [
    {
     "name": "stdout",
     "output_type": "stream",
     "text": [
      "BillingSupport: Handling refund request\n",
      "DeliverySupport: Handling delivery issue\n",
      "DeliverySupport: No handler found for request\n"
     ]
    }
   ],
   "source": [
    "# Abstract class defining the SupportHandler\n",
    "class SupportHandler:\n",
    "    def __init__(self):\n",
    "        self.next_handler = None\n",
    "\n",
    "    # Method to set the next handler in the chain\n",
    "    def set_next_handler(self, next_handler):\n",
    "        self.next_handler = next_handler\n",
    "\n",
    "    # Abstract method to handle the request\n",
    "    def handle_request(self, request_type):\n",
    "        raise NotImplementedError\n",
    "\n",
    "\n",
    "# Concrete Handler for General Support\n",
    "class GeneralSupport(SupportHandler):\n",
    "    def handle_request(self, request_type):\n",
    "        if request_type.lower() == \"general\":\n",
    "            print(\"GeneralSupport: Handling general query\")\n",
    "        elif self.next_handler:\n",
    "            self.next_handler.handle_request(request_type)\n",
    "\n",
    "\n",
    "# Concrete Handler for Billing Support\n",
    "class BillingSupport(SupportHandler):\n",
    "    def handle_request(self, request_type):\n",
    "        if request_type.lower() == \"refund\":\n",
    "            print(\"BillingSupport: Handling refund request\")\n",
    "        elif self.next_handler:\n",
    "            self.next_handler.handle_request(request_type)\n",
    "\n",
    "\n",
    "# Concrete Handler for Technical Support\n",
    "class TechnicalSupport(SupportHandler):\n",
    "    def handle_request(self, request_type):\n",
    "        if request_type.lower() == \"technical\":\n",
    "            print(\"TechnicalSupport: Handling technical issue\")\n",
    "        elif self.next_handler:\n",
    "            self.next_handler.handle_request(request_type)\n",
    "\n",
    "\n",
    "# Concrete Handler for Delivery Support\n",
    "class DeliverySupport(SupportHandler):\n",
    "    def handle_request(self, request_type):\n",
    "        if request_type.lower() == \"delivery\":\n",
    "            print(\"DeliverySupport: Handling delivery issue\")\n",
    "        elif self.next_handler:\n",
    "            self.next_handler.handle_request(request_type)\n",
    "        else:\n",
    "            print(\"DeliverySupport: No handler found for request\")\n",
    "\n",
    "\n",
    "# Client Code\n",
    "if __name__ == \"__main__\":\n",
    "    general = GeneralSupport()\n",
    "    billing = BillingSupport()\n",
    "    technical = TechnicalSupport()\n",
    "    delivery = DeliverySupport()\n",
    "\n",
    "    # Setting up the chain: general -> billing -> technical -> delivery\n",
    "    general.set_next_handler(billing)\n",
    "    billing.set_next_handler(technical)\n",
    "    technical.set_next_handler(delivery)\n",
    "\n",
    "    # Testing the chain of responsibility with different request types\n",
    "    general.handle_request(\"refund\")\n",
    "    general.handle_request(\"delivery\")\n",
    "    general.handle_request(\"unknown\")\n"
   ]
  },
  {
   "cell_type": "code",
   "execution_count": null,
   "id": "47b33381",
   "metadata": {},
   "outputs": [],
   "source": []
  }
 ],
 "metadata": {
  "kernelspec": {
   "display_name": "base",
   "language": "python",
   "name": "python3"
  },
  "language_info": {
   "codemirror_mode": {
    "name": "ipython",
    "version": 3
   },
   "file_extension": ".py",
   "mimetype": "text/x-python",
   "name": "python",
   "nbconvert_exporter": "python",
   "pygments_lexer": "ipython3",
   "version": "3.12.7"
  }
 },
 "nbformat": 4,
 "nbformat_minor": 5
}
