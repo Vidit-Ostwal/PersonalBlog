{
 "cells": [
  {
   "cell_type": "code",
   "execution_count": 2,
   "id": "98e11dc6",
   "metadata": {},
   "outputs": [],
   "source": [
    "# Similarly, in software, the Strategy Pattern allows a class to use different algorithms or behaviors at runtime, without altering its code structure, \n",
    "# just like Uber switches matching strategies based on need."
   ]
  },
  {
   "cell_type": "code",
   "execution_count": 3,
   "id": "551ff7c2",
   "metadata": {},
   "outputs": [
    {
     "name": "stdout",
     "output_type": "stream",
     "text": [
      "Matching rider at Downtown with nearest driver.\n",
      "Matching rider at City Center based on surge pricing priority.\n",
      "Matching rider at Airport Terminal 1 from airport queue.\n"
     ]
    }
   ],
   "source": [
    "# Class implementing Ride Matching Service\n",
    "class RideMatchingService:\n",
    "    def match_rider(self, rider_location, matching_type):\n",
    "        # Match rider using different hardcoded strategies\n",
    "        if matching_type == \"NEAREST\":\n",
    "            # Find nearest driver\n",
    "            print(f\"Matching rider at {rider_location} with nearest driver.\")\n",
    "        elif matching_type == \"SURGE_PRIORITY\":\n",
    "            # Match based on surge area logic\n",
    "            print(f\"Matching rider at {rider_location} based on surge pricing priority.\")\n",
    "        elif matching_type == \"AIRPORT_QUEUE\":\n",
    "            # Use FIFO-based airport queue logic\n",
    "            print(f\"Matching rider at {rider_location} from airport queue.\")\n",
    "        else:\n",
    "            print(\"Invalid matching strategy provided.\")\n",
    "\n",
    "# Client Code\n",
    "def main():\n",
    "    service = RideMatchingService()\n",
    "\n",
    "    # Try different strategies\n",
    "    service.match_rider(\"Downtown\", \"NEAREST\")\n",
    "    service.match_rider(\"City Center\", \"SURGE_PRIORITY\")\n",
    "    service.match_rider(\"Airport Terminal 1\", \"AIRPORT_QUEUE\")\n",
    "\n",
    "if __name__ == \"__main__\":\n",
    "    main()\n"
   ]
  },
  {
   "cell_type": "code",
   "execution_count": 4,
   "id": "d100447a",
   "metadata": {},
   "outputs": [
    {
     "name": "stdout",
     "output_type": "stream",
     "text": [
      "Matching using FIFO airport queue for Terminal 1\n",
      "Matching with the nearest available driver to Downtown\n",
      "Matching rider using surge pricing priority near Downtown\n"
     ]
    }
   ],
   "source": [
    "from abc import ABC, abstractmethod\n",
    "\n",
    "# ==============================\n",
    "# Strategy Interface\n",
    "# ==============================\n",
    "class MatchingStrategy(ABC):\n",
    "    @abstractmethod\n",
    "    def match(self, rider_location):\n",
    "        pass\n",
    "\n",
    "# ==============================\n",
    "# Concrete Strategy: Nearest Driver\n",
    "# ==============================\n",
    "class NearestDriverStrategy(MatchingStrategy):\n",
    "    def match(self, rider_location):\n",
    "        print(f\"Matching with the nearest available driver to {rider_location}\")\n",
    "        # Distance-based matching logic\n",
    "\n",
    "# ==============================\n",
    "# Concrete Strategy: Airport Queue\n",
    "# ==============================\n",
    "class AirportQueueStrategy(MatchingStrategy):\n",
    "    def match(self, rider_location):\n",
    "        print(f\"Matching using FIFO airport queue for {rider_location}\")\n",
    "        # Match first-in-line driver for airport pickup\n",
    "\n",
    "# ==============================\n",
    "# Concrete Strategy: Surge Priority\n",
    "# ==============================\n",
    "class SurgePriorityStrategy(MatchingStrategy):\n",
    "    def match(self, rider_location):\n",
    "        print(f\"Matching rider using surge pricing priority near {rider_location}\")\n",
    "        # Prioritize high-surge zones or premium drivers\n",
    "\n",
    "# ==============================\n",
    "# Context Class: RideMatchingService\n",
    "# ==============================\n",
    "class RideMatchingService:\n",
    "    def __init__(self, strategy):\n",
    "        self.strategy = strategy  # Constructor injection of strategy\n",
    "\n",
    "    def set_strategy(self, strategy):\n",
    "        self.strategy = strategy  # Setter injection to change strategy dynamically\n",
    "\n",
    "    def match_rider(self, location):\n",
    "        self.strategy.match(location)  # Delegates the matching logic to the strategy\n",
    "\n",
    "# ==============================\n",
    "# Client Code\n",
    "# ==============================\n",
    "def main():\n",
    "    # Using airport queue strategy\n",
    "    ride_matching_service = RideMatchingService(AirportQueueStrategy())\n",
    "    ride_matching_service.match_rider(\"Terminal 1\")\n",
    "\n",
    "    # Using nearest driver strategy and later switching to surge priority\n",
    "    ride_matching_service2 = RideMatchingService(NearestDriverStrategy())\n",
    "    ride_matching_service2.match_rider(\"Downtown\")\n",
    "    ride_matching_service2.set_strategy(SurgePriorityStrategy())\n",
    "    ride_matching_service2.match_rider(\"Downtown\")\n",
    "\n",
    "if __name__ == \"__main__\":\n",
    "    main()\n"
   ]
  },
  {
   "cell_type": "code",
   "execution_count": null,
   "id": "57384de1",
   "metadata": {},
   "outputs": [],
   "source": []
  }
 ],
 "metadata": {
  "kernelspec": {
   "display_name": "base",
   "language": "python",
   "name": "python3"
  },
  "language_info": {
   "codemirror_mode": {
    "name": "ipython",
    "version": 3
   },
   "file_extension": ".py",
   "mimetype": "text/x-python",
   "name": "python",
   "nbconvert_exporter": "python",
   "pygments_lexer": "ipython3",
   "version": "3.12.7"
  }
 },
 "nbformat": 4,
 "nbformat_minor": 5
}
