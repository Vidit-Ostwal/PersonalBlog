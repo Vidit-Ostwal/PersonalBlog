{
 "cells": [
  {
   "cell_type": "code",
   "execution_count": 1,
   "id": "3720396a",
   "metadata": {},
   "outputs": [
    {
     "name": "stdout",
     "output_type": "stream",
     "text": [
      "Payment of ₹500 successful for account user123\n",
      "Seat A10 reserved for movie movie456\n",
      "Booking confirmation sent to user@example.com\n",
      "50 loyalty points added to account user123\n",
      "Ticket generated for movie movie456, Seat: A10\n"
     ]
    }
   ],
   "source": [
    "# Service class responsible for handling payments\n",
    "class PaymentService:\n",
    "    def make_payment(self, account_id, amount):\n",
    "        print(f\"Payment of ₹{amount} successful for account {account_id}\")\n",
    "\n",
    "# Service class responsible for reserving seats\n",
    "class SeatReservationService:\n",
    "    def reserve_seat(self, movie_id, seat_number):\n",
    "        print(f\"Seat {seat_number} reserved for movie {movie_id}\")\n",
    "\n",
    "# Service class responsible for sending notifications\n",
    "class NotificationService:\n",
    "    def send_booking_confirmation(self, user_email):\n",
    "        print(f\"Booking confirmation sent to {user_email}\")\n",
    "\n",
    "# Service class for managing loyalty/reward points\n",
    "class LoyaltyPointsService:\n",
    "    def add_points(self, account_id, points):\n",
    "        print(f\"{points} loyalty points added to account {account_id}\")\n",
    "\n",
    "# Service class for generating movie tickets\n",
    "class TicketService:\n",
    "    def generate_ticket(self, movie_id, seat_number):\n",
    "        print(f\"Ticket generated for movie {movie_id}, Seat: {seat_number}\")\n",
    "\n",
    "\n",
    "# Client Code\n",
    "if __name__ == \"__main__\":\n",
    "    # Booking a movie ticket manually (without a facade)\n",
    "\n",
    "    # Step 1: Make payment\n",
    "    payment_service = PaymentService()\n",
    "    payment_service.make_payment(\"user123\", 500)\n",
    "\n",
    "    # Step 2: Reserve seat\n",
    "    seat_reservation_service = SeatReservationService()\n",
    "    seat_reservation_service.reserve_seat(\"movie456\", \"A10\")\n",
    "\n",
    "    # Step 3: Send booking confirmation via email\n",
    "    notification_service = NotificationService()\n",
    "    notification_service.send_booking_confirmation(\"user@example.com\")\n",
    "\n",
    "    # Step 4: Add loyalty points to user's account\n",
    "    loyalty_points_service = LoyaltyPointsService()\n",
    "    loyalty_points_service.add_points(\"user123\", 50)\n",
    "\n",
    "    # Step 5: Generate the ticket\n",
    "    ticket_service = TicketService()\n",
    "    ticket_service.generate_ticket(\"movie456\", \"A10\")\n"
   ]
  },
  {
   "cell_type": "code",
   "execution_count": 2,
   "id": "d25ee063",
   "metadata": {},
   "outputs": [
    {
     "name": "stdout",
     "output_type": "stream",
     "text": [
      "Payment of ₹500 successful for account user123\n",
      "Seat A10 reserved for movie movie456\n",
      "Ticket generated for movie movie456, Seat: A10\n",
      "50 loyalty points added to account user123\n",
      "Booking confirmation sent to user@example.com\n",
      "Movie ticket booking completed successfully!\n"
     ]
    }
   ],
   "source": [
    "# Service class responsible for handling payments\n",
    "class PaymentService:\n",
    "    def make_payment(self, account_id, amount):\n",
    "        print(f\"Payment of ₹{amount} successful for account {account_id}\")\n",
    "\n",
    "# Service class responsible for reserving seats\n",
    "class SeatReservationService:\n",
    "    def reserve_seat(self, movie_id, seat_number):\n",
    "        print(f\"Seat {seat_number} reserved for movie {movie_id}\")\n",
    "\n",
    "# Service class responsible for sending notifications\n",
    "class NotificationService:\n",
    "    def send_booking_confirmation(self, user_email):\n",
    "        print(f\"Booking confirmation sent to {user_email}\")\n",
    "\n",
    "# Service class for managing loyalty/reward points\n",
    "class LoyaltyPointsService:\n",
    "    def add_points(self, account_id, points):\n",
    "        print(f\"{points} loyalty points added to account {account_id}\")\n",
    "\n",
    "# Service class for generating movie tickets\n",
    "class TicketService:\n",
    "    def generate_ticket(self, movie_id, seat_number):\n",
    "        print(f\"Ticket generated for movie {movie_id}, Seat: {seat_number}\")\n",
    "\n",
    "\n",
    "# ========== The MovieBookingFacade class  ==============\n",
    "class MovieBookingFacade:\n",
    "    # Constructor to initialize all the subsystem services.\n",
    "    def __init__(self):\n",
    "        self.payment_service = PaymentService()\n",
    "        self.seat_reservation_service = SeatReservationService()\n",
    "        self.notification_service = NotificationService()\n",
    "        self.loyalty_points_service = LoyaltyPointsService()\n",
    "        self.ticket_service = TicketService()\n",
    "\n",
    "    # Method providing a simplified interface for booking a movie ticket\n",
    "    def book_movie_ticket(self, account_id, movie_id, seat_number, user_email, amount):\n",
    "        self.payment_service.make_payment(account_id, amount)\n",
    "        self.seat_reservation_service.reserve_seat(movie_id, seat_number)\n",
    "        self.ticket_service.generate_ticket(movie_id, seat_number)\n",
    "        self.loyalty_points_service.add_points(account_id, 50)\n",
    "        self.notification_service.send_booking_confirmation(user_email)\n",
    "\n",
    "        # Indicate successful completion of the entire booking process.\n",
    "        print(\"Movie ticket booking completed successfully!\")\n",
    "\n",
    "\n",
    "# Client Code\n",
    "if __name__ == \"__main__\":\n",
    "    # Booking a movie ticket manually (using facade)\n",
    "    movie_booking_facade = MovieBookingFacade()\n",
    "    movie_booking_facade.book_movie_ticket(\"user123\", \"movie456\", \"A10\", \"user@example.com\", 500)\n"
   ]
  },
  {
   "cell_type": "code",
   "execution_count": null,
   "id": "7d74cd1e",
   "metadata": {},
   "outputs": [],
   "source": []
  }
 ],
 "metadata": {
  "kernelspec": {
   "display_name": "base",
   "language": "python",
   "name": "python3"
  },
  "language_info": {
   "codemirror_mode": {
    "name": "ipython",
    "version": 3
   },
   "file_extension": ".py",
   "mimetype": "text/x-python",
   "name": "python",
   "nbconvert_exporter": "python",
   "pygments_lexer": "ipython3",
   "version": "3.12.7"
  }
 },
 "nbformat": 4,
 "nbformat_minor": 5
}
