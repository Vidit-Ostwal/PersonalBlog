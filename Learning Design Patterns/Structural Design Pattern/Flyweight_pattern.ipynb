{
 "cells": [
  {
   "cell_type": "code",
   "execution_count": null,
   "id": "68d3ebdb",
   "metadata": {},
   "outputs": [
    {
     "name": "stdout",
     "output_type": "stream",
     "text": [
      "Planted 1 million trees.\n"
     ]
    }
   ],
   "source": [
    "# ================ Tree Class =================\n",
    "class Tree:\n",
    "    # Attributes that keep on changing \n",
    "    def __init__(self, x, y, name, color, texture):\n",
    "        self.x = x\n",
    "        self.y = y\n",
    "\n",
    "        # Attributes that remain constant This is where we can save the memory\n",
    "        self.name = name\n",
    "        self.color = color\n",
    "        self.texture = texture\n",
    "\n",
    "    def draw(self):\n",
    "        print(f\"Drawing tree at ({self.x}, {self.y}) with type {self.name}\")\n",
    "\n",
    "# ================ Forest Class =================\n",
    "class Forest:\n",
    "    def __init__(self):\n",
    "        self.trees = []\n",
    "\n",
    "    def plant_tree(self, x, y, name, color, texture):\n",
    "        tree = Tree(x, y, name, color, texture)\n",
    "        self.trees.append(tree)\n",
    "\n",
    "    def draw(self):\n",
    "        for tree in self.trees:\n",
    "            tree.draw()\n",
    "\n",
    "# =============== Client Code ==================\n",
    "if __name__ == \"__main__\":\n",
    "    forest = Forest()\n",
    "\n",
    "    # Planting 1 million trees\n",
    "    for i in range(1000000):\n",
    "        forest.plant_tree(i, i, \"Oak\", \"Green\", \"Rough\")\n",
    "\n",
    "    print(\"Planted 1 million trees.\")\n",
    "\n",
    "\n",
    "# The flyweight pattern can be used when:\n",
    "\n",
    "# When you need to create a large number of similar objects.\n",
    "# When memory and performance optimization is crucial.\n",
    "# When the object's intrinsic properties could be shared independently of its extrinsic properties."
   ]
  },
  {
   "cell_type": "code",
   "execution_count": 3,
   "id": "46b7ea27",
   "metadata": {},
   "outputs": [
    {
     "name": "stdout",
     "output_type": "stream",
     "text": [
      "Planted 1 million trees.\n"
     ]
    }
   ],
   "source": [
    "# ============= TreeType Class ================\n",
    "class TreeType:\n",
    "    # Properties that are common among all trees of this type\n",
    "    def __init__(self, name, color, texture):\n",
    "        self.name = name\n",
    "        self.color = color\n",
    "        self.texture = texture\n",
    "\n",
    "    def draw(self, x, y):\n",
    "        print(f\"Drawing {self.name} tree at ({x}, {y})\")\n",
    "\n",
    "# ================ Tree Class =================\n",
    "class Tree:\n",
    "    # Attributes that keep on changing \n",
    "    def __init__(self, x, y, tree_type):\n",
    "        self.x = x\n",
    "        self.y = y\n",
    "\n",
    "        # Attributes that remain constant\n",
    "        self.tree_type = tree_type\n",
    "\n",
    "    def draw(self):\n",
    "        self.tree_type.draw(self.x, self.y)\n",
    "\n",
    "# ============ TreeFactory Class ==============\n",
    "class TreeFactory:\n",
    "    tree_type_map = {}\n",
    "\n",
    "    @staticmethod\n",
    "    def get_tree_type(name, color, texture):\n",
    "        key = f\"{name} - {color} - {texture}\"\n",
    "        if key not in TreeFactory.tree_type_map:\n",
    "            TreeFactory.tree_type_map[key] = TreeType(name, color, texture)\n",
    "        return TreeFactory.tree_type_map[key]\n",
    "\n",
    "# ================ Forest Class =================\n",
    "class Forest:\n",
    "    def __init__(self):\n",
    "        self.trees = []\n",
    "\n",
    "    def plant_tree(self, x, y, name, color, texture):\n",
    "        tree_type = TreeFactory.get_tree_type(name, color, texture)\n",
    "        tree = Tree(x, y, tree_type)\n",
    "        self.trees.append(tree)\n",
    "\n",
    "    def draw(self):\n",
    "        for tree in self.trees:\n",
    "            tree.draw()\n",
    "\n",
    "# =============== Client Code ==================\n",
    "if __name__ == \"__main__\":\n",
    "    forest = Forest()\n",
    "\n",
    "    # Planting 1 million trees\n",
    "    for i in range(1000000):\n",
    "        forest.plant_tree(i, i, \"Oak\", \"Green\", \"Rough\")\n",
    "\n",
    "    print(\"Planted 1 million trees.\")\n"
   ]
  },
  {
   "cell_type": "code",
   "execution_count": null,
   "id": "956130d9",
   "metadata": {},
   "outputs": [],
   "source": []
  }
 ],
 "metadata": {
  "kernelspec": {
   "display_name": "base",
   "language": "python",
   "name": "python3"
  },
  "language_info": {
   "codemirror_mode": {
    "name": "ipython",
    "version": 3
   },
   "file_extension": ".py",
   "mimetype": "text/x-python",
   "name": "python",
   "nbconvert_exporter": "python",
   "pygments_lexer": "ipython3",
   "version": "3.12.7"
  }
 },
 "nbformat": 4,
 "nbformat_minor": 5
}
