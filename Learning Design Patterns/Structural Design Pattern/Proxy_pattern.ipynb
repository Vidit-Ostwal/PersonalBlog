{
 "cells": [
  {
   "cell_type": "code",
   "execution_count": 1,
   "id": "c2ae7555",
   "metadata": {},
   "outputs": [
    {
     "name": "stdout",
     "output_type": "stream",
     "text": [
      "User 1 tries to download the video.\n",
      "Downloading video from URL: https://video.com/proxy-pattern\n",
      "Downloaded Content: Video content from https://video.com/proxy-pattern\n",
      "\n",
      "User 2 tries to download the same video again.\n",
      "Downloading video from URL: https://video.com/proxy-pattern\n",
      "Downloaded Content: Video content from https://video.com/proxy-pattern\n"
     ]
    }
   ],
   "source": [
    "# ========== RealVideoDownloader Class ==========\n",
    "class RealVideoDownloader:\n",
    "    def download_video(self, video_url):\n",
    "        # caching logic missing\n",
    "        # filtering logic missing\n",
    "        # access logic missing\n",
    "        print(f\"Downloading video from URL: {video_url}\")\n",
    "        content = f\"Video content from {video_url}\"\n",
    "        print(f\"Downloaded Content: {content}\")\n",
    "        return content\n",
    "\n",
    "# ================ Main Function ===================\n",
    "if __name__ == \"__main__\":\n",
    "    print(\"User 1 tries to download the video.\")\n",
    "    downloader1 = RealVideoDownloader()\n",
    "    downloader1.download_video(\"https://video.com/proxy-pattern\")\n",
    "\n",
    "    print()\n",
    "\n",
    "    print(\"User 2 tries to download the same video again.\")\n",
    "    downloader2 = RealVideoDownloader()\n",
    "    downloader2.download_video(\"https://video.com/proxy-pattern\")\n"
   ]
  },
  {
   "cell_type": "code",
   "execution_count": 2,
   "id": "01cc9f10",
   "metadata": {},
   "outputs": [
    {
     "name": "stdout",
     "output_type": "stream",
     "text": [
      "User 1 tries to download the video.\n",
      "Cache miss. Downloading...\n",
      "Downloading video from URL: https://video.com/proxy-pattern\n",
      "\n",
      "User 2 tries to download the same video again.\n",
      "Returning cached video for: https://video.com/proxy-pattern\n"
     ]
    }
   ],
   "source": [
    "from abc import ABC, abstractmethod\n",
    "\n",
    "# ========== Interface ==========\n",
    "class VideoDownloader(ABC):\n",
    "    @abstractmethod\n",
    "    def download_video(self, video_url):\n",
    "        pass\n",
    "\n",
    "# ========== RealVideoDownloader Class ==========\n",
    "class RealVideoDownloader(VideoDownloader):\n",
    "    def download_video(self, video_url):\n",
    "        print(f\"Downloading video from URL: {video_url}\")\n",
    "        return f\"Video content from {video_url}\"\n",
    "\n",
    "# =============== Proxy With Cache ====================\n",
    "class CachedVideoDownloader(VideoDownloader):\n",
    "    def __init__(self):\n",
    "        self.real_downloader = RealVideoDownloader()\n",
    "        self.cache = {}\n",
    "\n",
    "    def download_video(self, video_url):\n",
    "        if video_url in self.cache:\n",
    "            print(f\"Returning cached video for: {video_url}\")\n",
    "            return self.cache[video_url]\n",
    "\n",
    "        print(\"Cache miss. Downloading...\")\n",
    "        video = self.real_downloader.download_video(video_url)\n",
    "        self.cache[video_url] = video\n",
    "        return video\n",
    "\n",
    "# ================ Main ===================\n",
    "if __name__ == \"__main__\":\n",
    "    cache_video_downloader = CachedVideoDownloader()\n",
    "\n",
    "    print(\"User 1 tries to download the video.\")\n",
    "    cache_video_downloader.download_video(\"https://video.com/proxy-pattern\")\n",
    "\n",
    "    print()\n",
    "\n",
    "    print(\"User 2 tries to download the same video again.\")\n",
    "    cache_video_downloader.download_video(\"https://video.com/proxy-pattern\")\n"
   ]
  },
  {
   "cell_type": "code",
   "execution_count": null,
   "id": "baf0837c",
   "metadata": {},
   "outputs": [],
   "source": [
    "# Client interact with the proxy and proxy interacts with the main class\n",
    "# Firewall, Content Access, Protection Layer, Privacy Layer, all this go within the interface.\n",
    "\n",
    "# Virtual access, \n",
    "# Protection Proxy\n",
    "# Remote Proxy\n",
    "# Smart Proxy\n"
   ]
  }
 ],
 "metadata": {
  "kernelspec": {
   "display_name": "base",
   "language": "python",
   "name": "python3"
  },
  "language_info": {
   "codemirror_mode": {
    "name": "ipython",
    "version": 3
   },
   "file_extension": ".py",
   "mimetype": "text/x-python",
   "name": "python",
   "nbconvert_exporter": "python",
   "pygments_lexer": "ipython3",
   "version": "3.12.7"
  }
 },
 "nbformat": 4,
 "nbformat_minor": 5
}
