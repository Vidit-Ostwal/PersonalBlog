{
 "cells": [
  {
   "cell_type": "code",
   "execution_count": 1,
   "id": "863fdca4",
   "metadata": {},
   "outputs": [
    {
     "name": "stdout",
     "output_type": "stream",
     "text": [
      "Paid Rs. 1780 using PayU for order: 12\n"
     ]
    }
   ],
   "source": [
    "from abc import ABC, abstractmethod\n",
    "\n",
    "# Target Interface: \n",
    "# Standard interface expected by the CheckoutService\n",
    "class PaymentGateway(ABC):\n",
    "    @abstractmethod\n",
    "    def pay(self, order_id, amount):\n",
    "        pass\n",
    "\n",
    "# Concrete implementation of PaymentGateway for PayU\n",
    "class PayUGateway(PaymentGateway):\n",
    "    def pay(self, order_id, amount):\n",
    "        print(f\"Paid Rs. {amount} using PayU for order: {order_id}\")\n",
    "\n",
    "# Adaptee: \n",
    "# An existing class with an incompatible interface\n",
    "class RazorpayAPI:\n",
    "    def make_payment(self, invoice_id, amount_in_rupees):\n",
    "        print(f\"Paid Rs. {amount_in_rupees} using Razorpay for invoice: {invoice_id}\")\n",
    "\n",
    "# Client Class:\n",
    "# Uses PaymentGateway interface to process payments\n",
    "class CheckoutService:\n",
    "    # Constructor injection for dependency inversion\n",
    "    def __init__(self, payment_gateway):\n",
    "        self.payment_gateway = payment_gateway\n",
    "\n",
    "    # Business logic to perform checkout\n",
    "    def checkout(self, order_id, amount):\n",
    "        self.payment_gateway.pay(order_id, amount)\n",
    "\n",
    "# Driver Code\n",
    "if __name__ == \"__main__\":\n",
    "    # Using PayU payment gateway to process payment\n",
    "    checkout_service = CheckoutService(PayUGateway())\n",
    "    checkout_service.checkout(\"12\", 1780)\n"
   ]
  },
  {
   "cell_type": "code",
   "execution_count": 3,
   "id": "cea99dfe",
   "metadata": {},
   "outputs": [
    {
     "name": "stdout",
     "output_type": "stream",
     "text": [
      "Paid Rs.1780 using Razorpay for invoice: 12\n"
     ]
    }
   ],
   "source": [
    "from abc import ABC, abstractmethod\n",
    "\n",
    "# Target Interface: \n",
    "# Standard interface expected by the CheckoutService\n",
    "class PaymentGateway(ABC):\n",
    "    @abstractmethod\n",
    "    def pay(self, order_id, amount):\n",
    "        pass\n",
    "\n",
    "# Concrete implementation of PaymentGateway for PayU\n",
    "class PayUGateway(PaymentGateway):\n",
    "    def pay(self, order_id, amount):\n",
    "        print(f\"Paid Rs.{amount} using PayU for order: {order_id}\")\n",
    "\n",
    "# Adaptee: \n",
    "# An existing class with an incompatible interface\n",
    "class RazorpayAPI:\n",
    "    def make_payment(self, invoice_id, amount_in_rupees):\n",
    "        print(f\"Paid Rs.{amount_in_rupees} using Razorpay for invoice: {invoice_id}\")\n",
    "\n",
    "# Adapter Class:\n",
    "# Allows RazorpayAPI to be used where PaymentGateway is expected\n",
    "class RazorpayAdapter(PaymentGateway):\n",
    "    def __init__(self):\n",
    "        self.razorpay_api = RazorpayAPI()\n",
    "    \n",
    "    # Translates the pay() call to RazorpayAPI's make_payment() method\n",
    "    def pay(self, order_id, amount):\n",
    "        self.razorpay_api.make_payment(order_id, amount)\n",
    "\n",
    "# Client Class:\n",
    "# Uses PaymentGateway interface to process payments\n",
    "class CheckoutService:\n",
    "    # Constructor injection for dependency inversion\n",
    "    def __init__(self, payment_gateway):\n",
    "        self.payment_gateway = payment_gateway\n",
    "\n",
    "    # Business logic to perform checkout\n",
    "    def checkout(self, order_id, amount):\n",
    "        self.payment_gateway.pay(order_id, amount)\n",
    "\n",
    "# Main method\n",
    "if __name__ == \"__main__\":\n",
    "    # Using razorpay payment gateway adapter to process payment\n",
    "    checkout_service = CheckoutService(RazorpayAdapter())\n",
    "    checkout_service.checkout(\"12\", 1780)"
   ]
  },
  {
   "cell_type": "code",
   "execution_count": null,
   "id": "517f01c8",
   "metadata": {},
   "outputs": [],
   "source": []
  }
 ],
 "metadata": {
  "kernelspec": {
   "display_name": "base",
   "language": "python",
   "name": "python3"
  },
  "language_info": {
   "codemirror_mode": {
    "name": "ipython",
    "version": 3
   },
   "file_extension": ".py",
   "mimetype": "text/x-python",
   "name": "python",
   "nbconvert_exporter": "python",
   "pygments_lexer": "ipython3",
   "version": "3.12.7"
  }
 },
 "nbformat": 4,
 "nbformat_minor": 5
}
