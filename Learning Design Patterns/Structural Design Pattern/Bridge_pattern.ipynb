{
 "cells": [
  {
   "cell_type": "code",
   "execution_count": 1,
   "id": "5666541c",
   "metadata": {},
   "outputs": [
    {
     "name": "stdout",
     "output_type": "stream",
     "text": [
      "Web Player: Playing Interstellar in HD\n"
     ]
    }
   ],
   "source": [
    "from abc import ABC, abstractmethod\n",
    "\n",
    "# ======= Interface for video quality =======\n",
    "class PlayQuality(ABC):\n",
    "    @abstractmethod\n",
    "    def play(self, title):\n",
    "        pass\n",
    "\n",
    "# Each class here represents a combination of platform and quality\n",
    "class WebHDPlayer(PlayQuality):\n",
    "    def play(self, title):\n",
    "        # Web player plays in HD\n",
    "        print(f\"Web Player: Playing {title} in HD\")\n",
    "\n",
    "class MobileHDPlayer(PlayQuality):\n",
    "    def play(self, title):\n",
    "        # Mobile player plays in HD\n",
    "        print(f\"Mobile Player: Playing {title} in HD\")\n",
    "\n",
    "class SmartTVUltraHDPlayer(PlayQuality):\n",
    "    def play(self, title):\n",
    "        # Smart TV plays in Ultra HD\n",
    "        print(f\"Smart TV: Playing {title} in ultra HD\")\n",
    "\n",
    "class Web4KPlayer(PlayQuality):\n",
    "    def play(self, title):\n",
    "        # Web player plays in 4K\n",
    "        print(f\"Web Player: Playing {title} in 4K\")\n",
    "\n",
    "# ============ Main logic ================\n",
    "if __name__ == \"__main__\":\n",
    "    player = WebHDPlayer()\n",
    "    player.play(\"Interstellar\")\n"
   ]
  },
  {
   "cell_type": "code",
   "execution_count": 2,
   "id": "5fd10226",
   "metadata": {},
   "outputs": [
    {
     "name": "stdout",
     "output_type": "stream",
     "text": [
      "Web Platform:\n",
      "Streaming Interstellar in HD Quality\n",
      "Mobile Platform:\n",
      "Streaming Inception in 4K Ultra HD Quality\n"
     ]
    }
   ],
   "source": [
    "from abc import ABC, abstractmethod\n",
    "\n",
    "# ======== Implementor Interface =========\n",
    "class VideoQuality(ABC):\n",
    "    @abstractmethod\n",
    "    def load(self, title):\n",
    "        pass\n",
    "\n",
    "# ============ Concrete Implementors ==============\n",
    "class SDQuality(VideoQuality):\n",
    "    def load(self, title):\n",
    "        print(f\"Streaming {title} in SD Quality\")\n",
    "\n",
    "class HDQuality(VideoQuality):\n",
    "    def load(self, title):\n",
    "        print(f\"Streaming {title} in HD Quality\")\n",
    "\n",
    "class UltraHDQuality(VideoQuality):\n",
    "    def load(self, title):\n",
    "        print(f\"Streaming {title} in 4K Ultra HD Quality\")\n",
    "\n",
    "# ========== Abstraction ==========\n",
    "class VideoPlayer(ABC):\n",
    "    def __init__(self, quality: VideoQuality):\n",
    "        self.quality = quality\n",
    "\n",
    "    @abstractmethod\n",
    "    def play(self, title):\n",
    "        pass\n",
    "\n",
    "# =========== Refined Abstractions ==============\n",
    "class WebPlayer(VideoPlayer):\n",
    "    def play(self, title):\n",
    "        print(\"Web Platform:\")\n",
    "        self.quality.load(title)\n",
    "\n",
    "class MobilePlayer(VideoPlayer):\n",
    "    def play(self, title):\n",
    "        print(\"Mobile Platform:\")\n",
    "        self.quality.load(title)\n",
    "\n",
    "# Client Code\n",
    "if __name__ == \"__main__\":\n",
    "    # Playing on Web with HD Quality\n",
    "    player1 = WebPlayer(HDQuality())\n",
    "    player1.play(\"Interstellar\")\n",
    "\n",
    "    # Playing on Mobile with Ultra HD Quality\n",
    "    player2 = MobilePlayer(UltraHDQuality())\n",
    "    player2.play(\"Inception\")\n"
   ]
  },
  {
   "cell_type": "code",
   "execution_count": null,
   "id": "1ded0aff",
   "metadata": {},
   "outputs": [],
   "source": []
  }
 ],
 "metadata": {
  "kernelspec": {
   "display_name": "base",
   "language": "python",
   "name": "python3"
  },
  "language_info": {
   "codemirror_mode": {
    "name": "ipython",
    "version": 3
   },
   "file_extension": ".py",
   "mimetype": "text/x-python",
   "name": "python",
   "nbconvert_exporter": "python",
   "pygments_lexer": "ipython3",
   "version": "3.12.7"
  }
 },
 "nbformat": 4,
 "nbformat_minor": 5
}
